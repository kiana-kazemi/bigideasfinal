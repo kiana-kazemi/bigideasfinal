{
 "cells": [
  {
   "cell_type": "markdown",
   "metadata": {},
   "source": [
    "# The Best Neighborhood for a Reality TV Show\n",
    "Group 50: *Johanna Luke and Kiana Kazemi*"
   ]
  },
  {
   "cell_type": "markdown",
   "metadata": {},
   "source": [
    "**Overview**\n",
    "\n",
    "Reality TV shows are often featured in the quiet, private neighborhoods of Hollywood, LA, and more big cities. But they're quickly losing a key element to their entertainment because of this fact: reality. Sure, you can watch celebrities complain about their own problems, but wouldn't it much more interesting to watch them deal with day-to-day problems the rest of us have to face? That's why we are looking for the best Pittsburgh neighborhood in terms of playrgounds, crime, and traffic. We want overcrowded neighborhoods so the kids are constantly stuck in the house to annoy their parents, high crime for the dramatics, and lots of traffic for angry driving scenes. There's really no better way to ramp up entertainment like this!"
   ]
  },
  {
   "cell_type": "markdown",
   "metadata": {},
   "source": [
    "Let's begin by looking at playgrounds in the area:"
   ]
  },
  {
   "cell_type": "markdown",
   "metadata": {},
   "source": [
    "## Playground Analysis\n",
    "*Kiana Kazemi*"
   ]
  },
  {
   "cell_type": "markdown",
   "metadata": {},
   "source": [
    "Our goal is to find neighbourhood with highest kid to number of playgrounds ratio. This ensures very busy parks and highlights the lack of playgrounds within those neighborhoods.\n",
    "\n",
    "First, we will load our data. Due to the size of this dataset and some formatting that was interfering with the code, unnessecary rows were deleted. The edited csv was then named \"playgrounds\":"
   ]
  },
  {
   "cell_type": "code",
   "execution_count": 1,
   "metadata": {},
   "outputs": [],
   "source": [
    "# import + load pandas, matplot, and geopandas\n",
    "import pandas as pd\n",
    "import numpy as np\n",
    "import matplotlib.pyplot as plt\n",
    "import geopandas\n",
    "%matplotlib inline\n",
    "\n",
    "# load data for playgrounds\n",
    "playgrounds = pd.read_csv(\"Playgrounds-Edited.csv\")"
   ]
  },
  {
   "cell_type": "markdown",
   "metadata": {},
   "source": [
    "Now, we will look at the basic statistics:"
   ]
  },
  {
   "cell_type": "code",
   "execution_count": 2,
   "metadata": {},
   "outputs": [
    {
     "data": {
      "text/plain": [
       "Able Long Playground             1\n",
       "North Ave. Playground            1\n",
       "Robert E. WIlliams Playground    1\n",
       "Riverview Playground             1\n",
       "Rhododendron Playground          1\n",
       "                                ..\n",
       "Farmhouse Playground             1\n",
       "Eric Guy Kelly Playground        1\n",
       "Esplen Playground                1\n",
       "Enright Playground               1\n",
       "Spring Garden Ave Playground     1\n",
       "Name: name, Length: 125, dtype: int64"
      ]
     },
     "execution_count": 2,
     "metadata": {},
     "output_type": "execute_result"
    }
   ],
   "source": [
    "playgrounds['name'].value_counts()"
   ]
  },
  {
   "cell_type": "code",
   "execution_count": 3,
   "metadata": {},
   "outputs": [
    {
     "data": {
      "text/plain": [
       "Squirrel Hill South    8\n",
       "Beechview              5\n",
       "South Side Slopes      5\n",
       "Highland Park          4\n",
       "Sheraden               4\n",
       "                      ..\n",
       "Esplen                 1\n",
       "Fairywood              1\n",
       "Regent Square          1\n",
       "Allentown              1\n",
       "East Allegheny         1\n",
       "Name: neighborhood, Length: 68, dtype: int64"
      ]
     },
     "execution_count": 3,
     "metadata": {},
     "output_type": "execute_result"
    }
   ],
   "source": [
    "playgrounds['neighborhood'].value_counts()"
   ]
  },
  {
   "cell_type": "markdown",
   "metadata": {},
   "source": [
    "We find there are 125 playgrounds and 68 neighborhoods in this dataset\n",
    "Our goal is to now find the number of playgrounds within each neighborhood:"
   ]
  },
  {
   "cell_type": "code",
   "execution_count": 4,
   "metadata": {},
   "outputs": [
    {
     "data": {
      "text/html": [
       "<div>\n",
       "<style scoped>\n",
       "    .dataframe tbody tr th:only-of-type {\n",
       "        vertical-align: middle;\n",
       "    }\n",
       "\n",
       "    .dataframe tbody tr th {\n",
       "        vertical-align: top;\n",
       "    }\n",
       "\n",
       "    .dataframe thead th {\n",
       "        text-align: right;\n",
       "    }\n",
       "</style>\n",
       "<table border=\"1\" class=\"dataframe\">\n",
       "  <thead>\n",
       "    <tr style=\"text-align: right;\">\n",
       "      <th></th>\n",
       "      <th>neighborhood</th>\n",
       "      <th>playgrounds</th>\n",
       "    </tr>\n",
       "  </thead>\n",
       "  <tbody>\n",
       "    <tr>\n",
       "      <th>56</th>\n",
       "      <td>Squirrel Hill South</td>\n",
       "      <td>8</td>\n",
       "    </tr>\n",
       "    <tr>\n",
       "      <th>4</th>\n",
       "      <td>Beechview</td>\n",
       "      <td>5</td>\n",
       "    </tr>\n",
       "    <tr>\n",
       "      <th>52</th>\n",
       "      <td>South Side Slopes</td>\n",
       "      <td>5</td>\n",
       "    </tr>\n",
       "    <tr>\n",
       "      <th>0</th>\n",
       "      <td>Allegheny Center</td>\n",
       "      <td>4</td>\n",
       "    </tr>\n",
       "    <tr>\n",
       "      <th>5</th>\n",
       "      <td>Beltzhoover</td>\n",
       "      <td>4</td>\n",
       "    </tr>\n",
       "    <tr>\n",
       "      <th>...</th>\n",
       "      <td>...</td>\n",
       "      <td>...</td>\n",
       "    </tr>\n",
       "    <tr>\n",
       "      <th>41</th>\n",
       "      <td>New Homestead</td>\n",
       "      <td>1</td>\n",
       "    </tr>\n",
       "    <tr>\n",
       "      <th>42</th>\n",
       "      <td>Oakwood</td>\n",
       "      <td>1</td>\n",
       "    </tr>\n",
       "    <tr>\n",
       "      <th>43</th>\n",
       "      <td>Perry North</td>\n",
       "      <td>1</td>\n",
       "    </tr>\n",
       "    <tr>\n",
       "      <th>44</th>\n",
       "      <td>Perry South</td>\n",
       "      <td>1</td>\n",
       "    </tr>\n",
       "    <tr>\n",
       "      <th>67</th>\n",
       "      <td>Windgap</td>\n",
       "      <td>1</td>\n",
       "    </tr>\n",
       "  </tbody>\n",
       "</table>\n",
       "<p>68 rows × 2 columns</p>\n",
       "</div>"
      ],
      "text/plain": [
       "           neighborhood  playgrounds\n",
       "56  Squirrel Hill South            8\n",
       "4             Beechview            5\n",
       "52    South Side Slopes            5\n",
       "0      Allegheny Center            4\n",
       "5           Beltzhoover            4\n",
       "..                  ...          ...\n",
       "41        New Homestead            1\n",
       "42              Oakwood            1\n",
       "43          Perry North            1\n",
       "44          Perry South            1\n",
       "67              Windgap            1\n",
       "\n",
       "[68 rows x 2 columns]"
      ]
     },
     "execution_count": 4,
     "metadata": {},
     "output_type": "execute_result"
    }
   ],
   "source": [
    "#create a new dataframe that finds the number of playgrounds per neighbourhood\n",
    "playfreq = playgrounds.groupby('neighborhood')['name'].nunique().reset_index(name = 'playgrounds')\n",
    "\n",
    "#create a descending list based on the number of playgrounds per neighborhood\n",
    "playfreq.sort_values(by = 'playgrounds', ascending = False)"
   ]
  },
  {
   "cell_type": "markdown",
   "metadata": {},
   "source": [
    "Now let's take a quick look at the top 10 neighborhoods with the most playgrounds:"
   ]
  },
  {
   "cell_type": "code",
   "execution_count": 5,
   "metadata": {},
   "outputs": [
    {
     "data": {
      "text/html": [
       "<div>\n",
       "<style scoped>\n",
       "    .dataframe tbody tr th:only-of-type {\n",
       "        vertical-align: middle;\n",
       "    }\n",
       "\n",
       "    .dataframe tbody tr th {\n",
       "        vertical-align: top;\n",
       "    }\n",
       "\n",
       "    .dataframe thead th {\n",
       "        text-align: right;\n",
       "    }\n",
       "</style>\n",
       "<table border=\"1\" class=\"dataframe\">\n",
       "  <thead>\n",
       "    <tr style=\"text-align: right;\">\n",
       "      <th></th>\n",
       "      <th>neighborhood</th>\n",
       "      <th>playgrounds</th>\n",
       "    </tr>\n",
       "  </thead>\n",
       "  <tbody>\n",
       "    <tr>\n",
       "      <th>56</th>\n",
       "      <td>Squirrel Hill South</td>\n",
       "      <td>8</td>\n",
       "    </tr>\n",
       "    <tr>\n",
       "      <th>4</th>\n",
       "      <td>Beechview</td>\n",
       "      <td>5</td>\n",
       "    </tr>\n",
       "    <tr>\n",
       "      <th>52</th>\n",
       "      <td>South Side Slopes</td>\n",
       "      <td>5</td>\n",
       "    </tr>\n",
       "    <tr>\n",
       "      <th>0</th>\n",
       "      <td>Allegheny Center</td>\n",
       "      <td>4</td>\n",
       "    </tr>\n",
       "    <tr>\n",
       "      <th>5</th>\n",
       "      <td>Beltzhoover</td>\n",
       "      <td>4</td>\n",
       "    </tr>\n",
       "    <tr>\n",
       "      <th>29</th>\n",
       "      <td>Highland Park</td>\n",
       "      <td>4</td>\n",
       "    </tr>\n",
       "    <tr>\n",
       "      <th>49</th>\n",
       "      <td>Sheraden</td>\n",
       "      <td>4</td>\n",
       "    </tr>\n",
       "    <tr>\n",
       "      <th>40</th>\n",
       "      <td>Mount Washington</td>\n",
       "      <td>3</td>\n",
       "    </tr>\n",
       "    <tr>\n",
       "      <th>21</th>\n",
       "      <td>Elliott</td>\n",
       "      <td>3</td>\n",
       "    </tr>\n",
       "    <tr>\n",
       "      <th>20</th>\n",
       "      <td>East Liberty</td>\n",
       "      <td>3</td>\n",
       "    </tr>\n",
       "  </tbody>\n",
       "</table>\n",
       "</div>"
      ],
      "text/plain": [
       "           neighborhood  playgrounds\n",
       "56  Squirrel Hill South            8\n",
       "4             Beechview            5\n",
       "52    South Side Slopes            5\n",
       "0      Allegheny Center            4\n",
       "5           Beltzhoover            4\n",
       "29        Highland Park            4\n",
       "49             Sheraden            4\n",
       "40     Mount Washington            3\n",
       "21              Elliott            3\n",
       "20         East Liberty            3"
      ]
     },
     "execution_count": 5,
     "metadata": {},
     "output_type": "execute_result"
    }
   ],
   "source": [
    "playfreq.sort_values(by = 'playgrounds', ascending = False).head(10)"
   ]
  },
  {
   "cell_type": "markdown",
   "metadata": {},
   "source": [
    "While we have now easily found the number of playgrounds per neighborhood and which neighborhoods have the most, this won't provide us with the strongest evidence. What would help further is finding the ratio of kids per playground, to understand which playgrounds would most likely be overcrowded."
   ]
  },
  {
   "cell_type": "markdown",
   "metadata": {},
   "source": [
    "To do so, we need to import a second dataset with the number of kids per playground. This data was not readily available in csv format, so I had to create and enter the data into my own data file. "
   ]
  },
  {
   "cell_type": "code",
   "execution_count": 6,
   "metadata": {},
   "outputs": [],
   "source": [
    "# load data for under 18 population \n",
    "children = pd.read_csv(\"Children-Population.csv\")"
   ]
  },
  {
   "cell_type": "markdown",
   "metadata": {},
   "source": [
    "Here is a quick look at our data, looking at the neighborhoods with the highest population of children:"
   ]
  },
  {
   "cell_type": "code",
   "execution_count": 7,
   "metadata": {},
   "outputs": [
    {
     "data": {
      "text/html": [
       "<div>\n",
       "<style scoped>\n",
       "    .dataframe tbody tr th:only-of-type {\n",
       "        vertical-align: middle;\n",
       "    }\n",
       "\n",
       "    .dataframe tbody tr th {\n",
       "        vertical-align: top;\n",
       "    }\n",
       "\n",
       "    .dataframe thead th {\n",
       "        text-align: right;\n",
       "    }\n",
       "</style>\n",
       "<table border=\"1\" class=\"dataframe\">\n",
       "  <thead>\n",
       "    <tr style=\"text-align: right;\">\n",
       "      <th></th>\n",
       "      <th>id</th>\n",
       "      <th>neighborhood</th>\n",
       "      <th>under18</th>\n",
       "    </tr>\n",
       "  </thead>\n",
       "  <tbody>\n",
       "    <tr>\n",
       "      <th>12</th>\n",
       "      <td>13</td>\n",
       "      <td>Brookline</td>\n",
       "      <td>2540</td>\n",
       "    </tr>\n",
       "    <tr>\n",
       "      <th>14</th>\n",
       "      <td>15</td>\n",
       "      <td>Squirrel Hill South</td>\n",
       "      <td>2333</td>\n",
       "    </tr>\n",
       "    <tr>\n",
       "      <th>45</th>\n",
       "      <td>46</td>\n",
       "      <td>Carrick</td>\n",
       "      <td>2153</td>\n",
       "    </tr>\n",
       "    <tr>\n",
       "      <th>66</th>\n",
       "      <td>67</td>\n",
       "      <td>Squirrel Hill North</td>\n",
       "      <td>1569</td>\n",
       "    </tr>\n",
       "    <tr>\n",
       "      <th>50</th>\n",
       "      <td>51</td>\n",
       "      <td>Sheraden</td>\n",
       "      <td>1468</td>\n",
       "    </tr>\n",
       "    <tr>\n",
       "      <th>32</th>\n",
       "      <td>33</td>\n",
       "      <td>Highland Park</td>\n",
       "      <td>1332</td>\n",
       "    </tr>\n",
       "    <tr>\n",
       "      <th>0</th>\n",
       "      <td>1</td>\n",
       "      <td>Beechview</td>\n",
       "      <td>1314</td>\n",
       "    </tr>\n",
       "    <tr>\n",
       "      <th>11</th>\n",
       "      <td>12</td>\n",
       "      <td>Brighton Heights</td>\n",
       "      <td>1298</td>\n",
       "    </tr>\n",
       "    <tr>\n",
       "      <th>8</th>\n",
       "      <td>9</td>\n",
       "      <td>Homewood North</td>\n",
       "      <td>1151</td>\n",
       "    </tr>\n",
       "    <tr>\n",
       "      <th>65</th>\n",
       "      <td>66</td>\n",
       "      <td>Point Breeze North</td>\n",
       "      <td>1133</td>\n",
       "    </tr>\n",
       "  </tbody>\n",
       "</table>\n",
       "</div>"
      ],
      "text/plain": [
       "    id         neighborhood  under18\n",
       "12  13            Brookline     2540\n",
       "14  15  Squirrel Hill South     2333\n",
       "45  46              Carrick     2153\n",
       "66  67  Squirrel Hill North     1569\n",
       "50  51             Sheraden     1468\n",
       "32  33        Highland Park     1332\n",
       "0    1            Beechview     1314\n",
       "11  12     Brighton Heights     1298\n",
       "8    9       Homewood North     1151\n",
       "65  66   Point Breeze North     1133"
      ]
     },
     "execution_count": 7,
     "metadata": {},
     "output_type": "execute_result"
    }
   ],
   "source": [
    "children.sort_values(by = 'under18', ascending = False).head(10)"
   ]
  },
  {
   "cell_type": "markdown",
   "metadata": {},
   "source": [
    "Next, we need to work on finding the ratios. We will do so by creating a new dataframe and dividing the values of the \"under18\" column in the \"children\" dataframe by the \"playgrounds\" column in the \"playfreq\" dataframe:"
   ]
  },
  {
   "cell_type": "code",
   "execution_count": 8,
   "metadata": {},
   "outputs": [
    {
     "data": {
      "text/html": [
       "<div>\n",
       "<style scoped>\n",
       "    .dataframe tbody tr th:only-of-type {\n",
       "        vertical-align: middle;\n",
       "    }\n",
       "\n",
       "    .dataframe tbody tr th {\n",
       "        vertical-align: top;\n",
       "    }\n",
       "\n",
       "    .dataframe thead th {\n",
       "        text-align: right;\n",
       "    }\n",
       "</style>\n",
       "<table border=\"1\" class=\"dataframe\">\n",
       "  <thead>\n",
       "    <tr style=\"text-align: right;\">\n",
       "      <th></th>\n",
       "      <th>neighborhood</th>\n",
       "      <th>playgrounds</th>\n",
       "      <th>under18</th>\n",
       "    </tr>\n",
       "  </thead>\n",
       "  <tbody>\n",
       "    <tr>\n",
       "      <th>0</th>\n",
       "      <td>Allegheny Center</td>\n",
       "      <td>4</td>\n",
       "      <td>85</td>\n",
       "    </tr>\n",
       "    <tr>\n",
       "      <th>1</th>\n",
       "      <td>Allentown</td>\n",
       "      <td>1</td>\n",
       "      <td>754</td>\n",
       "    </tr>\n",
       "    <tr>\n",
       "      <th>2</th>\n",
       "      <td>Banksville</td>\n",
       "      <td>1</td>\n",
       "      <td>401</td>\n",
       "    </tr>\n",
       "    <tr>\n",
       "      <th>3</th>\n",
       "      <td>Bedford Dwellings</td>\n",
       "      <td>1</td>\n",
       "      <td>405</td>\n",
       "    </tr>\n",
       "    <tr>\n",
       "      <th>4</th>\n",
       "      <td>Beechview</td>\n",
       "      <td>5</td>\n",
       "      <td>1314</td>\n",
       "    </tr>\n",
       "    <tr>\n",
       "      <th>5</th>\n",
       "      <td>Beltzhoover</td>\n",
       "      <td>4</td>\n",
       "      <td>207</td>\n",
       "    </tr>\n",
       "    <tr>\n",
       "      <th>6</th>\n",
       "      <td>Bloomfield</td>\n",
       "      <td>2</td>\n",
       "      <td>757</td>\n",
       "    </tr>\n",
       "    <tr>\n",
       "      <th>7</th>\n",
       "      <td>Bluff</td>\n",
       "      <td>1</td>\n",
       "      <td>120</td>\n",
       "    </tr>\n",
       "    <tr>\n",
       "      <th>8</th>\n",
       "      <td>Bon Air</td>\n",
       "      <td>1</td>\n",
       "      <td>177</td>\n",
       "    </tr>\n",
       "    <tr>\n",
       "      <th>9</th>\n",
       "      <td>Brighton Heights</td>\n",
       "      <td>2</td>\n",
       "      <td>1298</td>\n",
       "    </tr>\n",
       "  </tbody>\n",
       "</table>\n",
       "</div>"
      ],
      "text/plain": [
       "        neighborhood  playgrounds  under18\n",
       "0   Allegheny Center            4       85\n",
       "1          Allentown            1      754\n",
       "2         Banksville            1      401\n",
       "3  Bedford Dwellings            1      405\n",
       "4          Beechview            5     1314\n",
       "5        Beltzhoover            4      207\n",
       "6         Bloomfield            2      757\n",
       "7              Bluff            1      120\n",
       "8            Bon Air            1      177\n",
       "9   Brighton Heights            2     1298"
      ]
     },
     "execution_count": 8,
     "metadata": {},
     "output_type": "execute_result"
    }
   ],
   "source": [
    "#create merged df\n",
    "merged = pd.merge(left=playfreq, right=children, left_on='neighborhood', right_on='neighborhood')\n",
    "\n",
    "#drop the id column from the children df for ease of reading\n",
    "merged.drop('id', inplace=True, axis=1)\n",
    "\n",
    "merged.head(10)"
   ]
  },
  {
   "cell_type": "markdown",
   "metadata": {},
   "source": [
    "Now that we have all the values in the same dataframe and associated with the same neighborhoods, we can find the ratios:"
   ]
  },
  {
   "cell_type": "code",
   "execution_count": 9,
   "metadata": {},
   "outputs": [
    {
     "data": {
      "text/html": [
       "<div>\n",
       "<style scoped>\n",
       "    .dataframe tbody tr th:only-of-type {\n",
       "        vertical-align: middle;\n",
       "    }\n",
       "\n",
       "    .dataframe tbody tr th {\n",
       "        vertical-align: top;\n",
       "    }\n",
       "\n",
       "    .dataframe thead th {\n",
       "        text-align: right;\n",
       "    }\n",
       "</style>\n",
       "<table border=\"1\" class=\"dataframe\">\n",
       "  <thead>\n",
       "    <tr style=\"text-align: right;\">\n",
       "      <th></th>\n",
       "      <th>neighborhood</th>\n",
       "      <th>playgrounds</th>\n",
       "      <th>under18</th>\n",
       "      <th>ratios</th>\n",
       "    </tr>\n",
       "  </thead>\n",
       "  <tbody>\n",
       "    <tr>\n",
       "      <th>0</th>\n",
       "      <td>Allegheny Center</td>\n",
       "      <td>4</td>\n",
       "      <td>85</td>\n",
       "      <td>85:4</td>\n",
       "    </tr>\n",
       "    <tr>\n",
       "      <th>1</th>\n",
       "      <td>Allentown</td>\n",
       "      <td>1</td>\n",
       "      <td>754</td>\n",
       "      <td>754:1</td>\n",
       "    </tr>\n",
       "    <tr>\n",
       "      <th>2</th>\n",
       "      <td>Banksville</td>\n",
       "      <td>1</td>\n",
       "      <td>401</td>\n",
       "      <td>401:1</td>\n",
       "    </tr>\n",
       "    <tr>\n",
       "      <th>3</th>\n",
       "      <td>Bedford Dwellings</td>\n",
       "      <td>1</td>\n",
       "      <td>405</td>\n",
       "      <td>405:1</td>\n",
       "    </tr>\n",
       "    <tr>\n",
       "      <th>4</th>\n",
       "      <td>Beechview</td>\n",
       "      <td>5</td>\n",
       "      <td>1314</td>\n",
       "      <td>1314:5</td>\n",
       "    </tr>\n",
       "    <tr>\n",
       "      <th>5</th>\n",
       "      <td>Beltzhoover</td>\n",
       "      <td>4</td>\n",
       "      <td>207</td>\n",
       "      <td>207:4</td>\n",
       "    </tr>\n",
       "    <tr>\n",
       "      <th>6</th>\n",
       "      <td>Bloomfield</td>\n",
       "      <td>2</td>\n",
       "      <td>757</td>\n",
       "      <td>757:2</td>\n",
       "    </tr>\n",
       "    <tr>\n",
       "      <th>7</th>\n",
       "      <td>Bluff</td>\n",
       "      <td>1</td>\n",
       "      <td>120</td>\n",
       "      <td>120:1</td>\n",
       "    </tr>\n",
       "    <tr>\n",
       "      <th>8</th>\n",
       "      <td>Bon Air</td>\n",
       "      <td>1</td>\n",
       "      <td>177</td>\n",
       "      <td>177:1</td>\n",
       "    </tr>\n",
       "    <tr>\n",
       "      <th>9</th>\n",
       "      <td>Brighton Heights</td>\n",
       "      <td>2</td>\n",
       "      <td>1298</td>\n",
       "      <td>1298:2</td>\n",
       "    </tr>\n",
       "  </tbody>\n",
       "</table>\n",
       "</div>"
      ],
      "text/plain": [
       "        neighborhood  playgrounds  under18  ratios\n",
       "0   Allegheny Center            4       85    85:4\n",
       "1          Allentown            1      754   754:1\n",
       "2         Banksville            1      401   401:1\n",
       "3  Bedford Dwellings            1      405   405:1\n",
       "4          Beechview            5     1314  1314:5\n",
       "5        Beltzhoover            4      207   207:4\n",
       "6         Bloomfield            2      757   757:2\n",
       "7              Bluff            1      120   120:1\n",
       "8            Bon Air            1      177   177:1\n",
       "9   Brighton Heights            2     1298  1298:2"
      ]
     },
     "execution_count": 9,
     "metadata": {},
     "output_type": "execute_result"
    }
   ],
   "source": [
    "merged['ratios'] = merged['under18'].astype(str) + \":\" + merged['playgrounds'].astype(str)\n",
    "merged.head(10)"
   ]
  },
  {
   "cell_type": "markdown",
   "metadata": {},
   "source": [
    "And now we can take a look at the simplified ratios:"
   ]
  },
  {
   "cell_type": "code",
   "execution_count": 10,
   "metadata": {},
   "outputs": [
    {
     "data": {
      "text/html": [
       "<div>\n",
       "<style scoped>\n",
       "    .dataframe tbody tr th:only-of-type {\n",
       "        vertical-align: middle;\n",
       "    }\n",
       "\n",
       "    .dataframe tbody tr th {\n",
       "        vertical-align: top;\n",
       "    }\n",
       "\n",
       "    .dataframe thead th {\n",
       "        text-align: right;\n",
       "    }\n",
       "</style>\n",
       "<table border=\"1\" class=\"dataframe\">\n",
       "  <thead>\n",
       "    <tr style=\"text-align: right;\">\n",
       "      <th></th>\n",
       "      <th>neighborhood</th>\n",
       "      <th>playgrounds</th>\n",
       "      <th>under18</th>\n",
       "      <th>ratios</th>\n",
       "      <th>simplified</th>\n",
       "    </tr>\n",
       "  </thead>\n",
       "  <tbody>\n",
       "    <tr>\n",
       "      <th>0</th>\n",
       "      <td>Allegheny Center</td>\n",
       "      <td>4</td>\n",
       "      <td>85</td>\n",
       "      <td>85:4</td>\n",
       "      <td>21.25</td>\n",
       "    </tr>\n",
       "    <tr>\n",
       "      <th>1</th>\n",
       "      <td>Allentown</td>\n",
       "      <td>1</td>\n",
       "      <td>754</td>\n",
       "      <td>754:1</td>\n",
       "      <td>754.00</td>\n",
       "    </tr>\n",
       "    <tr>\n",
       "      <th>2</th>\n",
       "      <td>Banksville</td>\n",
       "      <td>1</td>\n",
       "      <td>401</td>\n",
       "      <td>401:1</td>\n",
       "      <td>401.00</td>\n",
       "    </tr>\n",
       "    <tr>\n",
       "      <th>3</th>\n",
       "      <td>Bedford Dwellings</td>\n",
       "      <td>1</td>\n",
       "      <td>405</td>\n",
       "      <td>405:1</td>\n",
       "      <td>405.00</td>\n",
       "    </tr>\n",
       "    <tr>\n",
       "      <th>4</th>\n",
       "      <td>Beechview</td>\n",
       "      <td>5</td>\n",
       "      <td>1314</td>\n",
       "      <td>1314:5</td>\n",
       "      <td>262.80</td>\n",
       "    </tr>\n",
       "    <tr>\n",
       "      <th>5</th>\n",
       "      <td>Beltzhoover</td>\n",
       "      <td>4</td>\n",
       "      <td>207</td>\n",
       "      <td>207:4</td>\n",
       "      <td>51.75</td>\n",
       "    </tr>\n",
       "    <tr>\n",
       "      <th>6</th>\n",
       "      <td>Bloomfield</td>\n",
       "      <td>2</td>\n",
       "      <td>757</td>\n",
       "      <td>757:2</td>\n",
       "      <td>378.50</td>\n",
       "    </tr>\n",
       "    <tr>\n",
       "      <th>7</th>\n",
       "      <td>Bluff</td>\n",
       "      <td>1</td>\n",
       "      <td>120</td>\n",
       "      <td>120:1</td>\n",
       "      <td>120.00</td>\n",
       "    </tr>\n",
       "    <tr>\n",
       "      <th>8</th>\n",
       "      <td>Bon Air</td>\n",
       "      <td>1</td>\n",
       "      <td>177</td>\n",
       "      <td>177:1</td>\n",
       "      <td>177.00</td>\n",
       "    </tr>\n",
       "    <tr>\n",
       "      <th>9</th>\n",
       "      <td>Brighton Heights</td>\n",
       "      <td>2</td>\n",
       "      <td>1298</td>\n",
       "      <td>1298:2</td>\n",
       "      <td>649.00</td>\n",
       "    </tr>\n",
       "  </tbody>\n",
       "</table>\n",
       "</div>"
      ],
      "text/plain": [
       "        neighborhood  playgrounds  under18  ratios  simplified\n",
       "0   Allegheny Center            4       85    85:4       21.25\n",
       "1          Allentown            1      754   754:1      754.00\n",
       "2         Banksville            1      401   401:1      401.00\n",
       "3  Bedford Dwellings            1      405   405:1      405.00\n",
       "4          Beechview            5     1314  1314:5      262.80\n",
       "5        Beltzhoover            4      207   207:4       51.75\n",
       "6         Bloomfield            2      757   757:2      378.50\n",
       "7              Bluff            1      120   120:1      120.00\n",
       "8            Bon Air            1      177   177:1      177.00\n",
       "9   Brighton Heights            2     1298  1298:2      649.00"
      ]
     },
     "execution_count": 10,
     "metadata": {},
     "output_type": "execute_result"
    }
   ],
   "source": [
    "merged['simplified'] = merged['under18']/merged['playgrounds']\n",
    "merged.head(10)"
   ]
  },
  {
   "cell_type": "markdown",
   "metadata": {},
   "source": [
    "And finally, let's find the top 20 neighborhoods with the worst (greatest) simplified ratios:"
   ]
  },
  {
   "cell_type": "code",
   "execution_count": 11,
   "metadata": {},
   "outputs": [
    {
     "data": {
      "text/html": [
       "<div>\n",
       "<style scoped>\n",
       "    .dataframe tbody tr th:only-of-type {\n",
       "        vertical-align: middle;\n",
       "    }\n",
       "\n",
       "    .dataframe tbody tr th {\n",
       "        vertical-align: top;\n",
       "    }\n",
       "\n",
       "    .dataframe thead th {\n",
       "        text-align: right;\n",
       "    }\n",
       "</style>\n",
       "<table border=\"1\" class=\"dataframe\">\n",
       "  <thead>\n",
       "    <tr style=\"text-align: right;\">\n",
       "      <th></th>\n",
       "      <th>neighborhood</th>\n",
       "      <th>playgrounds</th>\n",
       "      <th>under18</th>\n",
       "      <th>ratios</th>\n",
       "      <th>simplified</th>\n",
       "    </tr>\n",
       "  </thead>\n",
       "  <tbody>\n",
       "    <tr>\n",
       "      <th>55</th>\n",
       "      <td>Squirrel Hill North</td>\n",
       "      <td>1</td>\n",
       "      <td>1569</td>\n",
       "      <td>1569:1</td>\n",
       "      <td>1569.000000</td>\n",
       "    </tr>\n",
       "    <tr>\n",
       "      <th>10</th>\n",
       "      <td>Brookline</td>\n",
       "      <td>2</td>\n",
       "      <td>2540</td>\n",
       "      <td>2540:2</td>\n",
       "      <td>1270.000000</td>\n",
       "    </tr>\n",
       "    <tr>\n",
       "      <th>30</th>\n",
       "      <td>Homewood North</td>\n",
       "      <td>1</td>\n",
       "      <td>1151</td>\n",
       "      <td>1151:1</td>\n",
       "      <td>1151.000000</td>\n",
       "    </tr>\n",
       "    <tr>\n",
       "      <th>45</th>\n",
       "      <td>Point Breeze North</td>\n",
       "      <td>1</td>\n",
       "      <td>1133</td>\n",
       "      <td>1133:1</td>\n",
       "      <td>1133.000000</td>\n",
       "    </tr>\n",
       "    <tr>\n",
       "      <th>44</th>\n",
       "      <td>Perry South</td>\n",
       "      <td>1</td>\n",
       "      <td>902</td>\n",
       "      <td>902:1</td>\n",
       "      <td>902.000000</td>\n",
       "    </tr>\n",
       "    <tr>\n",
       "      <th>48</th>\n",
       "      <td>Shadyside</td>\n",
       "      <td>1</td>\n",
       "      <td>848</td>\n",
       "      <td>848:1</td>\n",
       "      <td>848.000000</td>\n",
       "    </tr>\n",
       "    <tr>\n",
       "      <th>57</th>\n",
       "      <td>Stanton Heights</td>\n",
       "      <td>1</td>\n",
       "      <td>831</td>\n",
       "      <td>831:1</td>\n",
       "      <td>831.000000</td>\n",
       "    </tr>\n",
       "    <tr>\n",
       "      <th>1</th>\n",
       "      <td>Allentown</td>\n",
       "      <td>1</td>\n",
       "      <td>754</td>\n",
       "      <td>754:1</td>\n",
       "      <td>754.000000</td>\n",
       "    </tr>\n",
       "    <tr>\n",
       "      <th>41</th>\n",
       "      <td>New Homestead</td>\n",
       "      <td>1</td>\n",
       "      <td>750</td>\n",
       "      <td>750:1</td>\n",
       "      <td>750.000000</td>\n",
       "    </tr>\n",
       "    <tr>\n",
       "      <th>11</th>\n",
       "      <td>Carrick</td>\n",
       "      <td>3</td>\n",
       "      <td>2153</td>\n",
       "      <td>2153:3</td>\n",
       "      <td>717.666667</td>\n",
       "    </tr>\n",
       "    <tr>\n",
       "      <th>43</th>\n",
       "      <td>Perry North</td>\n",
       "      <td>1</td>\n",
       "      <td>704</td>\n",
       "      <td>704:1</td>\n",
       "      <td>704.000000</td>\n",
       "    </tr>\n",
       "    <tr>\n",
       "      <th>66</th>\n",
       "      <td>Westwood</td>\n",
       "      <td>1</td>\n",
       "      <td>699</td>\n",
       "      <td>699:1</td>\n",
       "      <td>699.000000</td>\n",
       "    </tr>\n",
       "    <tr>\n",
       "      <th>54</th>\n",
       "      <td>Spring Hill-City View</td>\n",
       "      <td>1</td>\n",
       "      <td>678</td>\n",
       "      <td>678:1</td>\n",
       "      <td>678.000000</td>\n",
       "    </tr>\n",
       "    <tr>\n",
       "      <th>9</th>\n",
       "      <td>Brighton Heights</td>\n",
       "      <td>2</td>\n",
       "      <td>1298</td>\n",
       "      <td>1298:2</td>\n",
       "      <td>649.000000</td>\n",
       "    </tr>\n",
       "    <tr>\n",
       "      <th>26</th>\n",
       "      <td>Greenfield</td>\n",
       "      <td>2</td>\n",
       "      <td>1125</td>\n",
       "      <td>1125:2</td>\n",
       "      <td>562.500000</td>\n",
       "    </tr>\n",
       "    <tr>\n",
       "      <th>37</th>\n",
       "      <td>Marshall-Shadeland</td>\n",
       "      <td>2</td>\n",
       "      <td>963</td>\n",
       "      <td>963:2</td>\n",
       "      <td>481.500000</td>\n",
       "    </tr>\n",
       "    <tr>\n",
       "      <th>15</th>\n",
       "      <td>Crafton Heights</td>\n",
       "      <td>2</td>\n",
       "      <td>941</td>\n",
       "      <td>941:2</td>\n",
       "      <td>470.500000</td>\n",
       "    </tr>\n",
       "    <tr>\n",
       "      <th>60</th>\n",
       "      <td>Terrace Village</td>\n",
       "      <td>1</td>\n",
       "      <td>439</td>\n",
       "      <td>439:1</td>\n",
       "      <td>439.000000</td>\n",
       "    </tr>\n",
       "    <tr>\n",
       "      <th>32</th>\n",
       "      <td>Larimer</td>\n",
       "      <td>1</td>\n",
       "      <td>425</td>\n",
       "      <td>425:1</td>\n",
       "      <td>425.000000</td>\n",
       "    </tr>\n",
       "    <tr>\n",
       "      <th>25</th>\n",
       "      <td>Garfield</td>\n",
       "      <td>2</td>\n",
       "      <td>830</td>\n",
       "      <td>830:2</td>\n",
       "      <td>415.000000</td>\n",
       "    </tr>\n",
       "  </tbody>\n",
       "</table>\n",
       "</div>"
      ],
      "text/plain": [
       "             neighborhood  playgrounds  under18  ratios   simplified\n",
       "55    Squirrel Hill North            1     1569  1569:1  1569.000000\n",
       "10              Brookline            2     2540  2540:2  1270.000000\n",
       "30         Homewood North            1     1151  1151:1  1151.000000\n",
       "45     Point Breeze North            1     1133  1133:1  1133.000000\n",
       "44            Perry South            1      902   902:1   902.000000\n",
       "48              Shadyside            1      848   848:1   848.000000\n",
       "57        Stanton Heights            1      831   831:1   831.000000\n",
       "1               Allentown            1      754   754:1   754.000000\n",
       "41          New Homestead            1      750   750:1   750.000000\n",
       "11                Carrick            3     2153  2153:3   717.666667\n",
       "43            Perry North            1      704   704:1   704.000000\n",
       "66               Westwood            1      699   699:1   699.000000\n",
       "54  Spring Hill-City View            1      678   678:1   678.000000\n",
       "9        Brighton Heights            2     1298  1298:2   649.000000\n",
       "26             Greenfield            2     1125  1125:2   562.500000\n",
       "37     Marshall-Shadeland            2      963   963:2   481.500000\n",
       "15        Crafton Heights            2      941   941:2   470.500000\n",
       "60        Terrace Village            1      439   439:1   439.000000\n",
       "32                Larimer            1      425   425:1   425.000000\n",
       "25               Garfield            2      830   830:2   415.000000"
      ]
     },
     "execution_count": 11,
     "metadata": {},
     "output_type": "execute_result"
    }
   ],
   "source": [
    "merged_d = merged.sort_values(by = 'simplified', ascending = False)\n",
    "merged_d.head(20)"
   ]
  },
  {
   "cell_type": "markdown",
   "metadata": {},
   "source": [
    "To better visualize this, we can look at the top 20 most overcrowded neighborhoods on a scatterplot:"
   ]
  },
  {
   "cell_type": "code",
   "execution_count": 12,
   "metadata": {},
   "outputs": [
    {
     "data": {
      "text/plain": [
       "(array([ 0,  1,  2,  3,  4,  5,  6,  7,  8,  9, 10, 11, 12, 13, 14, 15, 16,\n",
       "        17, 18, 19]),\n",
       " <a list of 20 Text major ticklabel objects>)"
      ]
     },
     "execution_count": 12,
     "metadata": {},
     "output_type": "execute_result"
    },
    {
     "data": {
      "image/png": "[encoded data removed]",
      "text/plain": [
       "<Figure size 720x360 with 1 Axes>"
      ]
     },
     "metadata": {
      "needs_background": "light"
     },
     "output_type": "display_data"
    }
   ],
   "source": [
    "merged_d.head(20).plot(kind = \"bar\", \n",
    "                       x = \"neighborhood\", \n",
    "                       y = \"simplified\",\n",
    "                       title = \"Simplified Ratios\",\n",
    "                       figsize=(10,5))\n",
    "plt.xticks(rotation = 90) #to ensure labels are easy to read"
   ]
  },
  {
   "cell_type": "markdown",
   "metadata": {},
   "source": [
    "However, it might be helpful to also visualize this on a map, with high ratios indicated by colors.\n",
    "\n",
    "First, let's create a map of Pittsburgh neighborhoods:"
   ]
  },
  {
   "cell_type": "code",
   "execution_count": 13,
   "metadata": {},
   "outputs": [],
   "source": [
    "#first, let's create the base map\n",
    "neighborhoods = geopandas.read_file(\"Neighborhoods/Neighborhoods_.shp\") # read in the shapefile"
   ]
  },
  {
   "cell_type": "markdown",
   "metadata": {},
   "source": [
    "Now, we can merge our data with the base map:"
   ]
  },
  {
   "cell_type": "code",
   "execution_count": 14,
   "metadata": {},
   "outputs": [],
   "source": [
    "# merge neighborhoods df with simplified ratios df\n",
    "ratio_map = neighborhoods.merge(merged, how='left', left_on='hood', right_on='neighborhood')"
   ]
  },
  {
   "cell_type": "markdown",
   "metadata": {},
   "source": [
    "And finally, we can put it all together in a chloropleth map:"
   ]
  },
  {
   "cell_type": "code",
   "execution_count": 15,
   "metadata": {},
   "outputs": [
    {
     "data": {
      "text/plain": [
       "<matplotlib.axes._subplots.AxesSubplot at 0x7f618c9e30a0>"
      ]
     },
     "execution_count": 15,
     "metadata": {},
     "output_type": "execute_result"
    },
    {
     "data": {
      "image/png": "[encoded data removed]",
      "text/plain": [
       "<Figure size 720x720 with 2 Axes>"
      ]
     },
     "metadata": {
      "needs_background": "light"
     },
     "output_type": "display_data"
    }
   ],
   "source": [
    "#create a chloropleth map\n",
    "ratio_map.plot(column='simplified',\n",
    "               cmap='YlOrBr',\n",
    "               edgecolor=\"white\",\n",
    "               legend=True,\n",
    "               legend_kwds={'label': \"Kids per Playground\", 'orientation': \"horizontal\"},\n",
    "               figsize=(10, 10),\n",
    "               missing_kwds={\"color\": \"lightgrey\"})"
   ]
  },
  {
   "cell_type": "markdown",
   "metadata": {},
   "source": [
    "This map further highlights the vast difference betweens neighborhoods when it comes to their ratio of kids to playgrounds. Some neighborhoods may be missing data in the map, and that is due to naming differences in neighborhoods. That's why using our bar charts are the best method."
   ]
  },
  {
   "cell_type": "markdown",
   "metadata": {},
   "source": [
    "### Conclusion of the playground analysis\n",
    "Let's take a look back at our dataframe with descending simplified ratio values:"
   ]
  },
  {
   "cell_type": "code",
   "execution_count": 16,
   "metadata": {},
   "outputs": [
    {
     "data": {
      "text/html": [
       "<div>\n",
       "<style scoped>\n",
       "    .dataframe tbody tr th:only-of-type {\n",
       "        vertical-align: middle;\n",
       "    }\n",
       "\n",
       "    .dataframe tbody tr th {\n",
       "        vertical-align: top;\n",
       "    }\n",
       "\n",
       "    .dataframe thead th {\n",
       "        text-align: right;\n",
       "    }\n",
       "</style>\n",
       "<table border=\"1\" class=\"dataframe\">\n",
       "  <thead>\n",
       "    <tr style=\"text-align: right;\">\n",
       "      <th></th>\n",
       "      <th>neighborhood</th>\n",
       "      <th>playgrounds</th>\n",
       "      <th>under18</th>\n",
       "      <th>ratios</th>\n",
       "      <th>simplified</th>\n",
       "    </tr>\n",
       "  </thead>\n",
       "  <tbody>\n",
       "    <tr>\n",
       "      <th>55</th>\n",
       "      <td>Squirrel Hill North</td>\n",
       "      <td>1</td>\n",
       "      <td>1569</td>\n",
       "      <td>1569:1</td>\n",
       "      <td>1569.000000</td>\n",
       "    </tr>\n",
       "    <tr>\n",
       "      <th>10</th>\n",
       "      <td>Brookline</td>\n",
       "      <td>2</td>\n",
       "      <td>2540</td>\n",
       "      <td>2540:2</td>\n",
       "      <td>1270.000000</td>\n",
       "    </tr>\n",
       "    <tr>\n",
       "      <th>30</th>\n",
       "      <td>Homewood North</td>\n",
       "      <td>1</td>\n",
       "      <td>1151</td>\n",
       "      <td>1151:1</td>\n",
       "      <td>1151.000000</td>\n",
       "    </tr>\n",
       "    <tr>\n",
       "      <th>45</th>\n",
       "      <td>Point Breeze North</td>\n",
       "      <td>1</td>\n",
       "      <td>1133</td>\n",
       "      <td>1133:1</td>\n",
       "      <td>1133.000000</td>\n",
       "    </tr>\n",
       "    <tr>\n",
       "      <th>44</th>\n",
       "      <td>Perry South</td>\n",
       "      <td>1</td>\n",
       "      <td>902</td>\n",
       "      <td>902:1</td>\n",
       "      <td>902.000000</td>\n",
       "    </tr>\n",
       "    <tr>\n",
       "      <th>48</th>\n",
       "      <td>Shadyside</td>\n",
       "      <td>1</td>\n",
       "      <td>848</td>\n",
       "      <td>848:1</td>\n",
       "      <td>848.000000</td>\n",
       "    </tr>\n",
       "    <tr>\n",
       "      <th>57</th>\n",
       "      <td>Stanton Heights</td>\n",
       "      <td>1</td>\n",
       "      <td>831</td>\n",
       "      <td>831:1</td>\n",
       "      <td>831.000000</td>\n",
       "    </tr>\n",
       "    <tr>\n",
       "      <th>1</th>\n",
       "      <td>Allentown</td>\n",
       "      <td>1</td>\n",
       "      <td>754</td>\n",
       "      <td>754:1</td>\n",
       "      <td>754.000000</td>\n",
       "    </tr>\n",
       "    <tr>\n",
       "      <th>41</th>\n",
       "      <td>New Homestead</td>\n",
       "      <td>1</td>\n",
       "      <td>750</td>\n",
       "      <td>750:1</td>\n",
       "      <td>750.000000</td>\n",
       "    </tr>\n",
       "    <tr>\n",
       "      <th>11</th>\n",
       "      <td>Carrick</td>\n",
       "      <td>3</td>\n",
       "      <td>2153</td>\n",
       "      <td>2153:3</td>\n",
       "      <td>717.666667</td>\n",
       "    </tr>\n",
       "  </tbody>\n",
       "</table>\n",
       "</div>"
      ],
      "text/plain": [
       "           neighborhood  playgrounds  under18  ratios   simplified\n",
       "55  Squirrel Hill North            1     1569  1569:1  1569.000000\n",
       "10            Brookline            2     2540  2540:2  1270.000000\n",
       "30       Homewood North            1     1151  1151:1  1151.000000\n",
       "45   Point Breeze North            1     1133  1133:1  1133.000000\n",
       "44          Perry South            1      902   902:1   902.000000\n",
       "48            Shadyside            1      848   848:1   848.000000\n",
       "57      Stanton Heights            1      831   831:1   831.000000\n",
       "1             Allentown            1      754   754:1   754.000000\n",
       "41        New Homestead            1      750   750:1   750.000000\n",
       "11              Carrick            3     2153  2153:3   717.666667"
      ]
     },
     "execution_count": 16,
     "metadata": {},
     "output_type": "execute_result"
    }
   ],
   "source": [
    "merged_d.head(10)"
   ]
  },
  {
   "cell_type": "markdown",
   "metadata": {},
   "source": [
    "Here we can conclude that the following Neighborhoods have the most overcrowded playgronds:\n",
    "1. Squirrel Hill North\n",
    "2. Brookline\n",
    "3. Homewood North\n",
    "4. Point Breeze North\n",
    "5. Perry South\n",
    "6. Shadyside\n",
    "7. Stanton Heights\n",
    "8. Allentown\n",
    "9. New Homestead\n",
    "10. Carrick"
   ]
  },
  {
   "cell_type": "markdown",
   "metadata": {},
   "source": [
    "**Now, let's move onto looking at crime**"
   ]
  },
  {
   "cell_type": "markdown",
   "metadata": {},
   "source": [
    "## High Crime Analysis"
   ]
  },
  {
   "cell_type": "markdown",
   "metadata": {},
   "source": [
    "*Johanna Luke*"
   ]
  },
  {
   "cell_type": "markdown",
   "metadata": {},
   "source": [
    "For this dataset, our goal was to find the neighborhood with the greatest amount of crimes committed. This would show us which neighborhood was the most unsafe and thus the most ideal for a reality TV show. "
   ]
  },
  {
   "cell_type": "markdown",
   "metadata": {},
   "source": [
    "First we're going to load pandas and the Crime dataset we found. "
   ]
  },
  {
   "cell_type": "code",
   "execution_count": 17,
   "metadata": {},
   "outputs": [],
   "source": [
    "import pandas as pd\n",
    "import numpy as np\n",
    "\n",
    "#import geopands to plot a map\n",
    "import geopandas\n",
    "\n",
    "#also importing matplot\n",
    "from matplotlib import pyplot as plt\n",
    "\n",
    "crime= pd.read_csv(\"HighCrime.csv\")\n",
    "#crimeEdit=pd.read_csv(\"HighCrime-edited.csv\")\n",
    "\n",
    "#make a dictionary for the high crime csv\n",
    "hc_dict= dict()"
   ]
  },
  {
   "cell_type": "markdown",
   "metadata": {},
   "source": [
    "Now we're going to load in all the neighborhoods where certain crimes have taken place. "
   ]
  },
  {
   "cell_type": "code",
   "execution_count": 18,
   "metadata": {},
   "outputs": [
    {
     "data": {
      "text/plain": [
       "South Side Flats               4838\n",
       "Golden Triangle/Civic Arena    3637\n",
       "Carrick                        2585\n",
       "Bloomfield                     2531\n",
       "Shadyside                      1894\n",
       "                               ... \n",
       "Outside State                    48\n",
       "Mount Oliver                     47\n",
       "Outside County                   45\n",
       "Chartiers City                   38\n",
       "Mt. Oliver Boro                  16\n",
       "Name: INCIDENTNEIGHBORHOOD, Length: 98, dtype: int64"
      ]
     },
     "execution_count": 18,
     "metadata": {},
     "output_type": "execute_result"
    }
   ],
   "source": [
    "crime['INCIDENTNEIGHBORHOOD'].value_counts()"
   ]
  },
  {
   "cell_type": "markdown",
   "metadata": {},
   "source": [
    "As we can see from just this table breakdown, South Side Flats has won for the neighborhood with the most amount of crime incidents"
   ]
  },
  {
   "cell_type": "markdown",
   "metadata": {},
   "source": [
    "Now this table is a little boring to look at so let's plot this with a bar graph to see it clearly."
   ]
  },
  {
   "cell_type": "code",
   "execution_count": 19,
   "metadata": {},
   "outputs": [
    {
     "data": {
      "text/plain": [
       "<matplotlib.axes._subplots.AxesSubplot at 0x7f618c9c8d00>"
      ]
     },
     "execution_count": 19,
     "metadata": {},
     "output_type": "execute_result"
    },
    {
     "data": {
      "image/png": "[encoded data removed]",
      "text/plain": [
       "<Figure size 432x288 with 1 Axes>"
      ]
     },
     "metadata": {
      "needs_background": "light"
     },
     "output_type": "display_data"
    }
   ],
   "source": [
    "hc_series = pd.Series(crime['INCIDENTNEIGHBORHOOD'].value_counts(), name = \"Crime\")\n",
    "hc_series.plot.bar()"
   ]
  },
  {
   "cell_type": "markdown",
   "metadata": {},
   "source": [
    "As you can see this is a lot to look at because it's trying to plot 98 different neighborhoods onto one graph. So let's graph the top 10 neighborhoods instead."
   ]
  },
  {
   "cell_type": "code",
   "execution_count": 20,
   "metadata": {},
   "outputs": [
    {
     "data": {
      "text/plain": [
       "<matplotlib.axes._subplots.AxesSubplot at 0x7f6189dbf640>"
      ]
     },
     "execution_count": 20,
     "metadata": {},
     "output_type": "execute_result"
    },
    {
     "data": {
      "image/png": "[encoded data removed]",
      "text/plain": [
       "<Figure size 576x396 with 1 Axes>"
      ]
     },
     "metadata": {},
     "output_type": "display_data"
    }
   ],
   "source": [
    "plt.style.use('seaborn')\n",
    "hc_series.head(10).plot.bar()"
   ]
  },
  {
   "cell_type": "markdown",
   "metadata": {},
   "source": [
    "MUCH better. As you can see, South Side Flats has almost 5000 crime incidents in this neighborhood which makes it the most unsafe. "
   ]
  },
  {
   "cell_type": "markdown",
   "metadata": {},
   "source": [
    "However, we don't want to discredit the other neighborhoods. Let's look at these incidents on a map so we can see the crime distribution across Allegheny County. So first let's load in our shapefile. "
   ]
  },
  {
   "cell_type": "code",
   "execution_count": 21,
   "metadata": {},
   "outputs": [],
   "source": [
    "neighborhoods = geopandas.read_file(\"Neighborhoods/Neighborhoods_.shp\")"
   ]
  },
  {
   "cell_type": "markdown",
   "metadata": {},
   "source": [
    "Now that we've downloaded our shapefile, we're going to overlay our crime incident neighborhoods overtop this new map. "
   ]
  },
  {
   "cell_type": "code",
   "execution_count": 22,
   "metadata": {},
   "outputs": [],
   "source": [
    "crime_map = neighborhoods.merge(crime, how='left', left_on='hood', right_on='INCIDENTNEIGHBORHOOD')"
   ]
  },
  {
   "cell_type": "markdown",
   "metadata": {},
   "source": [
    "First we have to calculate the number of incidents of each neighborhood and then display that on the map. We do this by converting our series into a data frame. "
   ]
  },
  {
   "cell_type": "code",
   "execution_count": 23,
   "metadata": {},
   "outputs": [
    {
     "data": {
      "text/plain": [
       "Index(['South Side Flats', 'Golden Triangle/Civic Arena', 'Carrick',\n",
       "       'Bloomfield', 'Shadyside', 'Homewood South', 'Lincoln-Lemington-Belmar',\n",
       "       'Knoxville', 'Central Oakland', 'Squirrel Hill South',\n",
       "       'Brighton Heights', 'East Liberty', 'Allentown', 'Homewood North',\n",
       "       'North Oakland', 'East Hills', 'Brookline', 'Central Business District',\n",
       "       'Mount Washington', 'Highland Park', 'East Allegheny',\n",
       "       'Central Lawrenceville', 'Larimer', 'Squirrel Hill North', 'Sheraden',\n",
       "       'Hazelwood', 'Beechview', 'Marshall-Shadeland', 'North Shore',\n",
       "       'Middle Hill', 'Allegheny Center', 'Homewood West', 'Point Breeze',\n",
       "       'South Side Slopes', 'Bluff', 'Perry North', 'Central Northside',\n",
       "       'Crawford-Roberts', 'Outside City', 'Lower Lawrenceville',\n",
       "       'Perry South', 'Point Breeze North', 'Northview Heights', 'Garfield',\n",
       "       'Greenfield', 'Strip District', 'Arlington', 'Westwood', 'Elliott',\n",
       "       'Friendship', 'West Oakland', 'Crafton Heights',\n",
       "       'Spring Hill-City View', 'Bedford Dwellings', 'South Oakland',\n",
       "       'Upper Hill', 'Stanton Heights', 'Chateau', 'Lincoln Place',\n",
       "       'Allegheny West', 'Manchester', 'Overbrook', 'Banksville', 'Fineview',\n",
       "       'Beltzhoover', 'St. Clair', 'Central North Side', 'Bon Air',\n",
       "       'Upper Lawrenceville', 'Morningside', 'California-Kirkbride',\n",
       "       'Troy Hill-Herrs Island', 'Polish Hill', 'South Shore', 'Windgap',\n",
       "       'Terrace Village', 'West End', 'Fairywood', 'Spring Garden',\n",
       "       'Duquesne Heights', 'Regent Square', 'Troy Hill', 'Oakwood', 'Hays',\n",
       "       'Glen Hazel', 'East Carnegie', 'Summer Hill', 'Mt. Oliver Neighborhood',\n",
       "       'Esplen', 'Arlington Heights', 'Ridgemont', 'Swisshelm Park',\n",
       "       'New Homestead', 'Outside State', 'Mount Oliver', 'Outside County',\n",
       "       'Chartiers City', 'Mt. Oliver Boro'],\n",
       "      dtype='object')"
      ]
     },
     "execution_count": 23,
     "metadata": {},
     "output_type": "execute_result"
    }
   ],
   "source": [
    "df= hc_series.to_frame()\n",
    "df.index\n"
   ]
  },
  {
   "cell_type": "markdown",
   "metadata": {},
   "source": [
    "We printed out the index above so that we could use it below for our right_on value. We then merge our crime map with the neighborhoods shape file. "
   ]
  },
  {
   "cell_type": "code",
   "execution_count": 24,
   "metadata": {},
   "outputs": [],
   "source": [
    "crime_map = neighborhoods.merge(df, how='left', left_on='hood', right_on=df.index)"
   ]
  },
  {
   "cell_type": "code",
   "execution_count": 25,
   "metadata": {},
   "outputs": [
    {
     "data": {
      "text/plain": [
       "<matplotlib.axes._subplots.AxesSubplot at 0x7f6189cbdc70>"
      ]
     },
     "execution_count": 25,
     "metadata": {},
     "output_type": "execute_result"
    },
    {
     "data": {
      "image/png": "[encoded data removed]",
      "text/plain": [
       "<Figure size 720x720 with 2 Axes>"
      ]
     },
     "metadata": {},
     "output_type": "display_data"
    }
   ],
   "source": [
    "crime_map.plot(column='Crime',\n",
    "               cmap='BuPu',\n",
    "               edgecolor=\"white\",\n",
    "               legend=True,\n",
    "               figsize=(10, 10),\n",
    "               missing_kwds={\"color\": \"lightgrey\"})"
   ]
  },
  {
   "cell_type": "markdown",
   "metadata": {},
   "source": [
    "As you can see, the neighborhood with the most amount of crime incidents is South Side Flats. The next top 3 neighborhoods are Currick, Bloomfield, and Shadyside. "
   ]
  },
  {
   "cell_type": "markdown",
   "metadata": {},
   "source": [
    "**Next, let's take a look at the traffic**"
   ]
  },
  {
   "cell_type": "markdown",
   "metadata": {},
   "source": [
    "## Traffic Count Analysis"
   ]
  },
  {
   "cell_type": "markdown",
   "metadata": {},
   "source": [
    "*Johanna Luke and Kiana Kazemi*"
   ]
  },
  {
   "cell_type": "markdown",
   "metadata": {},
   "source": [
    "The purpose of our traffic count analyis was to find the neighborhood with the most amount of traffic in order to increase frustration, anger, and .... drama. In order to find this, let's first load in pandas."
   ]
  },
  {
   "cell_type": "code",
   "execution_count": 26,
   "metadata": {},
   "outputs": [],
   "source": [
    "import pandas as pd\n",
    "import numpy as np\n",
    "\n",
    "#import geopands to plot a map\n",
    "import geopandas\n",
    "\n",
    "#also importing matplot\n",
    "from matplotlib import pyplot as plt\n",
    "\n",
    "#making our traffic data frame\n",
    "df=pd.DataFrame()\n",
    "dff=pd.DataFrame()"
   ]
  },
  {
   "cell_type": "markdown",
   "metadata": {},
   "source": [
    "Next let's load in our traffic csv file so that we can use this data. "
   ]
  },
  {
   "cell_type": "code",
   "execution_count": 27,
   "metadata": {},
   "outputs": [],
   "source": [
    "traffic= pd.read_csv(\"Traffic.csv\")"
   ]
  },
  {
   "cell_type": "markdown",
   "metadata": {},
   "source": [
    "Now let's print out the average daily car traffic column from our csv file."
   ]
  },
  {
   "cell_type": "code",
   "execution_count": 28,
   "metadata": {},
   "outputs": [
    {
     "data": {
      "text/plain": [
       "0      4949.0\n",
       "1         NaN\n",
       "2         NaN\n",
       "3      2741.0\n",
       "4         NaN\n",
       "        ...  \n",
       "415       NaN\n",
       "416       NaN\n",
       "417       NaN\n",
       "418       NaN\n",
       "419       NaN\n",
       "Name: average_daily_car_traffic, Length: 420, dtype: float64"
      ]
     },
     "execution_count": 28,
     "metadata": {},
     "output_type": "execute_result"
    }
   ],
   "source": [
    "traffic['average_daily_car_traffic']"
   ]
  },
  {
   "cell_type": "markdown",
   "metadata": {},
   "source": [
    "All of these NaN's are annoying and useless, so let's drop those from our column and only work with actual numbers. I did this by using the data frame I created and using the dropna() function.\n",
    "I also want to to see the top 10 neighborhoods with the most amount of daily traffic, so I listed them from greatest to least. "
   ]
  },
  {
   "cell_type": "code",
   "execution_count": 29,
   "metadata": {},
   "outputs": [
    {
     "data": {
      "text/plain": [
       "39     16729.0\n",
       "111    16711.0\n",
       "199    15000.0\n",
       "93     13788.0\n",
       "37     12335.0\n",
       "14     11500.0\n",
       "18     10350.0\n",
       "302    10113.0\n",
       "286    10001.0\n",
       "21      9709.0\n",
       "Name: average_daily_car_traffic, dtype: float64"
      ]
     },
     "execution_count": 29,
     "metadata": {},
     "output_type": "execute_result"
    }
   ],
   "source": [
    "df= traffic['average_daily_car_traffic']\n",
    "df = df.dropna()\n",
    "df.sort_values(ascending = False).head(10)"
   ]
  },
  {
   "cell_type": "markdown",
   "metadata": {},
   "source": [
    "Yay! Now that we have our top 10 list of numbers without any NaN, I'm going to find out what neighborhoods line up with them by using the index."
   ]
  },
  {
   "cell_type": "code",
   "execution_count": 30,
   "metadata": {},
   "outputs": [
    {
     "name": "stdout",
     "output_type": "stream",
     "text": [
      "East Liberty\n",
      "Beechview\n",
      "Central Business District\n",
      "Duquesne Heights\n",
      "Westwood\n",
      "Shadyside\n",
      "East Liberty\n",
      "Larimer\n",
      "Central Lawrenceville\n",
      "South Shore\n"
     ]
    }
   ],
   "source": [
    "dff=traffic['neighborhood']\n",
    "print(dff[40])\n",
    "print(dff[112])\n",
    "print(dff[200])\n",
    "print(dff[94])\n",
    "print(dff[38])\n",
    "print(dff[15])\n",
    "print(dff[19])\n",
    "print(dff[303])\n",
    "print(dff[287])\n",
    "print(dff[22])"
   ]
  },
  {
   "cell_type": "markdown",
   "metadata": {},
   "source": [
    "So from this list we can see that East Liberty is the neighborhood with the most amount of traffic. There's been a lot of tables in this notebook so let's make a dataframe with these 2 columns and plot it. "
   ]
  },
  {
   "cell_type": "code",
   "execution_count": 31,
   "metadata": {},
   "outputs": [
    {
     "name": "stdout",
     "output_type": "stream",
     "text": [
      "                neighborhood  Avg. Traffic\n",
      "0               East Liberty       16729.0\n",
      "1                  Beechview       16711.0\n",
      "2  Central Business District       15000.0\n",
      "3           Duquesne Heights       13788.0\n",
      "4                   Westwood       12335.0\n",
      "5                  Shadyside       11500.0\n",
      "6               East Liberty       10350.0\n",
      "7                    Larimer       10113.0\n",
      "8      Central Lawrenceville       10001.0\n",
      "9                South Shore        9709.0\n"
     ]
    }
   ],
   "source": [
    "d={'neighborhood': ['East Liberty', 'Beechview', 'Central Business District', 'Duquesne Heights', 'Westwood', 'Shadyside', 'East Liberty', 'Larimer', 'Central Lawrenceville','South Shore'],\n",
    "'Avg. Traffic':[16729.0,16711.0,15000.0,13788.0,12335.0,11500.0,10350.0,10113.0,10001.0,9709.0]\n",
    "  }\n",
    "df3=pd.DataFrame(data=d)\n",
    "print(df3)"
   ]
  },
  {
   "cell_type": "markdown",
   "metadata": {},
   "source": [
    "Now that we have this table stored in a dataframe, let's plot it on a bar graph. "
   ]
  },
  {
   "cell_type": "code",
   "execution_count": 32,
   "metadata": {},
   "outputs": [
    {
     "data": {
      "text/plain": [
       "<matplotlib.axes._subplots.AxesSubplot at 0x7f6189d16670>"
      ]
     },
     "execution_count": 32,
     "metadata": {},
     "output_type": "execute_result"
    },
    {
     "data": {
      "image/png": "[encoded data removed]",
      "text/plain": [
       "<Figure size 576x396 with 1 Axes>"
      ]
     },
     "metadata": {},
     "output_type": "display_data"
    }
   ],
   "source": [
    "plt.style.use('seaborn')\n",
    "df3.plot.bar()"
   ]
  },
  {
   "cell_type": "markdown",
   "metadata": {},
   "source": [
    "**Finally, let's put it all together**"
   ]
  },
  {
   "cell_type": "markdown",
   "metadata": {},
   "source": [
    "## Conclusion"
   ]
  },
  {
   "cell_type": "markdown",
   "metadata": {},
   "source": [
    "Here are the top neighborhoods from each analysis:"
   ]
  },
  {
   "cell_type": "markdown",
   "metadata": {},
   "source": [
    "| *Ranking* | *Playgrounds* | *Crime* | *Traffic* |\n",
    "| --- | --- | --- | --- |\n",
    "| 1 | Squirrel Hill North | South Side Flats | East Liberty |\n",
    "| 2 | Brookline | Golden Triangle | Beechview |\n",
    "| 3 | Homewood North | `Carrick` | Central Business District |\n",
    "| 4 | Point Breeze North | Bloomfield | Duquense Heights |\n",
    "| 5 | Perry South | `Shadyside` | Westwood |\n",
    "| 6 | `Shadyside` | Homewood South | `Shadyside` |\n",
    "| 7 | Stanton Heights | Lincoln-Lemington-Belmar | East Liberty |\n",
    "| 8 | Allentown | Knoxville | Larimer |\n",
    "| 9 | New Homestead | Central Oakland | Central Lawrenceville |\n",
    "| 10 | `Carrick` | Squirrel Hill South | South Shore |"
   ]
  },
  {
   "cell_type": "markdown",
   "metadata": {},
   "source": [
    "***WINNER***: Shadyside!\n",
    "\n",
    "As we can see, Shadyside shows up 3 times, and this is their average ranking:\n",
    "\n",
    "    (1/3)(6(Playgrounds) + 5(Crime) + 6(Traffic)) = 5.67\n",
    "\n",
    "**Honorable Mention** : Carrick"
   ]
  },
  {
   "cell_type": "markdown",
   "metadata": {},
   "source": [
    "### Personal Conclusions"
   ]
  },
  {
   "cell_type": "markdown",
   "metadata": {},
   "source": [
    "***Johanna Luke***\n",
    "After running the code for all 3 files, we found out that there wasn't a top clear winner for the best neighborhood for a reality tv show. All three files came up with different neighborhoods for the top spot. However, the neighborhood that had the most overlap with the all three metrics was Shadyside. This wasn't very surprising for me because it is a very popular neighborhood and I think it is even more evident now that it would be the perfect neighborhood for a reality TV show. "
   ]
  },
  {
   "cell_type": "markdown",
   "metadata": {},
   "source": [
    "***Kiana Kazemi*** At first, I wasn't really sure what neighborhood to expect, even as someone who lives around Pittsburgh. But once the data began pointing to Shadyside, I wasn't really suprised. There's a lot to do there, but that means lots of traffic, potential for crime, and it's not as kid-friendly. I do think Shadyside would regularly have some reality-TV show potential, and I think our analysis with different datasets really helps back that up."
   ]
  }
 ],
 "metadata": {
  "kernelspec": {
   "display_name": "Python 3",
   "language": "python",
   "name": "python3"
  },
  "language_info": {
   "codemirror_mode": {
    "name": "ipython",
    "version": 3
   },
   "file_extension": ".py",
   "mimetype": "text/x-python",
   "name": "python",
   "nbconvert_exporter": "python",
   "pygments_lexer": "ipython3",
   "version": "3.8.3"
  }
 },
 "nbformat": 4,
 "nbformat_minor": 4
}
