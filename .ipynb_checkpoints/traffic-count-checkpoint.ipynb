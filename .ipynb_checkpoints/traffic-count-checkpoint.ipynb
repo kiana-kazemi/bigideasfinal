{
 "cells": [
  {
   "cell_type": "markdown",
   "metadata": {},
   "source": [
    "# Traffic Count Analysis\n",
    "*Kiana Kazemi and Johanna Luke*"
   ]
  },
  {
   "cell_type": "markdown",
   "metadata": {},
   "source": [
    "The purpose of our traffic count analyis was to find the neighborhood with the most amount of traffic in order to increase frustration, anger, and .... drama. In order to find this, let's first load in pandas."
   ]
  },
  {
   "cell_type": "code",
   "execution_count": 35,
   "metadata": {},
   "outputs": [],
   "source": [
    "import pandas as pd\n",
    "import numpy as np\n",
    "\n",
    "#import geopands to plot a map\n",
    "import geopandas\n",
    "\n",
    "#also importing matplot\n",
    "from matplotlib import pyplot as plt\n",
    "\n",
    "#making our traffic data frame\n",
    "df=pd.DataFrame()\n",
    "dff=pd.DataFrame()"
   ]
  },
  {
   "cell_type": "markdown",
   "metadata": {},
   "source": [
    "Next let's load in our traffic csv file so that we can use this data. "
   ]
  },
  {
   "cell_type": "code",
   "execution_count": 19,
   "metadata": {},
   "outputs": [],
   "source": [
    "traffic= pd.read_csv(\"Traffic.csv\")"
   ]
  },
  {
   "cell_type": "code",
   "execution_count": 20,
   "metadata": {},
   "outputs": [
    {
     "data": {
      "text/plain": [
       "0      4949.0\n",
       "1         NaN\n",
       "2         NaN\n",
       "3      2741.0\n",
       "4         NaN\n",
       "        ...  \n",
       "415       NaN\n",
       "416       NaN\n",
       "417       NaN\n",
       "418       NaN\n",
       "419       NaN\n",
       "Name: average_daily_car_traffic, Length: 420, dtype: float64"
      ]
     },
     "execution_count": 20,
     "metadata": {},
     "output_type": "execute_result"
    }
   ],
   "source": [
    "traffic['average_daily_car_traffic']"
   ]
  },
  {
   "cell_type": "markdown",
   "metadata": {},
   "source": [
    "All of these NaN's are annoying and useless, so let's drop those from our column and only work with actual numbers. I did this by using the data frame I created and using the dropna() function.\n",
    "I also want to to see the top 10 neighborhoods with the most amount of daily traffic, so i listed them from greatest to least. "
   ]
  },
  {
   "cell_type": "code",
   "execution_count": 46,
   "metadata": {},
   "outputs": [
    {
     "data": {
      "text/plain": [
       "39     16729.0\n",
       "111    16711.0\n",
       "199    15000.0\n",
       "93     13788.0\n",
       "37     12335.0\n",
       "14     11500.0\n",
       "18     10350.0\n",
       "302    10113.0\n",
       "286    10001.0\n",
       "21      9709.0\n",
       "Name: average_daily_car_traffic, dtype: float64"
      ]
     },
     "execution_count": 46,
     "metadata": {},
     "output_type": "execute_result"
    }
   ],
   "source": [
    "df= traffic['average_daily_car_traffic']\n",
    "df = df.dropna()\n",
    "df.sort_values(ascending = False).head(10)\n",
    "#print (df.head(10))"
   ]
  },
  {
   "cell_type": "markdown",
   "metadata": {},
   "source": [
    "Yay! Now that we have our top 10 list of numbers without any NaN, I'm going to find out what neighborhoods line up with them by using the index."
   ]
  },
  {
   "cell_type": "code",
   "execution_count": 50,
   "metadata": {},
   "outputs": [
    {
     "name": "stdout",
     "output_type": "stream",
     "text": [
      "East Liberty\n",
      "Beechview\n",
      "Central Business District\n",
      "Duquesne Heights\n",
      "Westwood\n",
      "Shadyside\n",
      "East Liberty\n",
      "Larimer\n",
      "Central Lawrenceville\n",
      "South Shore\n"
     ]
    }
   ],
   "source": [
    "dff=traffic['neighborhood']\n",
    "print(dff[40])\n",
    "print(dff[112])\n",
    "print(dff[200])\n",
    "print(dff[94])\n",
    "print(dff[38])\n",
    "print(dff[15])\n",
    "print(dff[19])\n",
    "print(dff[303])\n",
    "print(dff[287])\n",
    "print(dff[22])"
   ]
  },
  {
   "cell_type": "markdown",
   "metadata": {},
   "source": [
    "So from this list we can see that East Liberty is the neighborhood with the most amount of traffic. There's been a lot of tables in this notebook so let's make a dataframe with these 2 columns and plot it. "
   ]
  },
  {
   "cell_type": "code",
   "execution_count": 52,
   "metadata": {},
   "outputs": [
    {
     "name": "stdout",
     "output_type": "stream",
     "text": [
      "                neighborhood  Avg. Traffic\n",
      "0               East Liberty       16729.0\n",
      "1                  Beechview       16711.0\n",
      "2  Central Business District       15000.0\n",
      "3           Duquesne Heights       13788.0\n",
      "4                   Westwood       12335.0\n",
      "5                  Shadyside       11500.0\n",
      "6               East Liberty       10350.0\n",
      "7                    Larimer       10113.0\n",
      "8      Central Lawrenceville       10001.0\n",
      "9                South Shore        9709.0\n"
     ]
    }
   ],
   "source": [
    "d={'neighborhood': ['East Liberty', 'Beechview', 'Central Business District', 'Duquesne Heights', 'Westwood', 'Shadyside', 'East Liberty', 'Larimer', 'Central Lawrenceville','South Shore'],\n",
    "'Avg. Traffic':[16729.0,16711.0,15000.0,13788.0,12335.0,11500.0,10350.0,10113.0,10001.0,9709.0]\n",
    "  }\n",
    "df3=pd.DataFrame(data=d)\n",
    "print(df3)"
   ]
  },
  {
   "cell_type": "markdown",
   "metadata": {},
   "source": [
    "Now that we have this table stored in a dataframe, let's plot it on a bar graph. "
   ]
  },
  {
   "cell_type": "code",
   "execution_count": 54,
   "metadata": {},
   "outputs": [
    {
     "data": {
      "text/plain": [
       "<matplotlib.axes._subplots.AxesSubplot at 0x7f80db5404f0>"
      ]
     },
     "execution_count": 54,
     "metadata": {},
     "output_type": "execute_result"
    },
    {
     "data": {
      "image/png": "[encoded data removed]",
      "text/plain": [
       "<Figure size 576x396 with 1 Axes>"
      ]
     },
     "metadata": {},
     "output_type": "display_data"
    }
   ],
   "source": [
    "plt.style.use('seaborn')\n",
    "df3.plot.bar()"
   ]
  },
  {
   "cell_type": "code",
   "execution_count": null,
   "metadata": {},
   "outputs": [],
   "source": []
  }
 ],
 "metadata": {
  "kernelspec": {
   "display_name": "Python 3",
   "language": "python",
   "name": "python3"
  },
  "language_info": {
   "codemirror_mode": {
    "name": "ipython",
    "version": 3
   },
   "file_extension": ".py",
   "mimetype": "text/x-python",
   "name": "python",
   "nbconvert_exporter": "python",
   "pygments_lexer": "ipython3",
   "version": "3.8.3"
  }
 },
 "nbformat": 4,
 "nbformat_minor": 4
}
